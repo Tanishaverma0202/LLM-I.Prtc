{
  "nbformat": 4,
  "nbformat_minor": 0,
  "metadata": {
    "colab": {
      "provenance": []
    },
    "kernelspec": {
      "name": "python3",
      "display_name": "Python 3"
    },
    "language_info": {
      "name": "python"
    }
  },
  "cells": [
    {
      "cell_type": "code",
      "execution_count": 1,
      "metadata": {
        "id": "XaLtqdpZwHmf",
        "outputId": "6a81f9da-6b6e-47b4-a558-6833940da90b",
        "colab": {
          "base_uri": "https://localhost:8080/"
        }
      },
      "outputs": [
        {
          "output_type": "stream",
          "name": "stdout",
          "text": [
            "Tweet 1: I love my family!\n",
            "  Polarity: 0.625, Subjectivity: 0.6\n",
            "\n",
            "Tweet 2: The weather is terrible today.\n",
            "  Polarity: -1.0, Subjectivity: 1.0\n",
            "\n",
            "Tweet 3: Just finished my project, feeling so accomplished!\n",
            "  Polarity: 0.25, Subjectivity: 0.5\n",
            "\n",
            "Tweet 4: I'm frustrated with the traffic.\n",
            "  Polarity: -0.7, Subjectivity: 0.2\n",
            "\n",
            "Tweet 5: Life is beautiful and full of surprises!\n",
            "  Polarity: 0.64375, Subjectivity: 0.775\n",
            "\n"
          ]
        }
      ],
      "source": [
        "from textblob import TextBlob\n",
        "\n",
        "# Sample tweets (you can replace these with real tweets from Twitter API or a file)\n",
        "tweets = [\n",
        "    \"I love my family!\",\n",
        "    \"The weather is terrible today.\",\n",
        "    \"Just finished my project, feeling so accomplished!\",\n",
        "    \"I'm frustrated with the traffic.\",\n",
        "    \"Life is beautiful and full of surprises!\"\n",
        "]\n",
        "\n",
        "# Analyze sentiment for each tweet\n",
        "for i, tweet in enumerate(tweets, 1):\n",
        "    blob = TextBlob(tweet)\n",
        "    print(f\"Tweet {i}: {tweet}\")\n",
        "    print(f\"  Polarity: {blob.sentiment.polarity}, Subjectivity: {blob.sentiment.subjectivity}\\n\")\n"
      ]
    }
  ]
}