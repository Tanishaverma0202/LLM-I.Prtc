{
  "nbformat": 4,
  "nbformat_minor": 0,
  "metadata": {
    "colab": {
      "provenance": []
    },
    "kernelspec": {
      "name": "python3",
      "display_name": "Python 3"
    },
    "language_info": {
      "name": "python"
    }
  },
  "cells": [
    {
      "cell_type": "markdown",
      "source": [
        "Removal of missing & duplicate rows, type conversion of columns & normalization of numeric columns"
      ],
      "metadata": {
        "id": "aP8Y9CxJ1Bhc"
      }
    },
    {
      "cell_type": "code",
      "source": [
        "import pandas as pd\n",
        "import numpy as np\n",
        "from sklearn.preprocessing import MinMaxScaler\n",
        "\n",
        "#Creating sample data\n",
        "data = {\n",
        "    \"Name\": [\"Alice\", \"Bob\", \"Charlie\", \"David\", \"Eva\", \"Alice\", None],\n",
        "    \"Age\": [25, 30, 35, 40, 28, 25, 32],\n",
        "    \"Salary\": [50000, 60000, None, 70000, 65000, 50000, 62000],\n",
        "    \"Department\": [\"HR\", \"IT\", \"IT\", \"Finance\", \"HR\", \"HR\", None]\n",
        "}\n",
        "\n",
        "df = pd.DataFrame(data)\n",
        "\n",
        "df.to_csv(\"demo_dataset.csv\", index=False)\n",
        "print(\"Demo CSV file created: demo_dataset.csv\")\n",
        "\n",
        "df = pd.read_csv('demo_dataset.csv')  # Replace with your CSV path\n",
        "print(\"Original DataFrame:\")\n",
        "print(df.head())\n",
        "\n",
        "# Removing rows with missing values\n",
        "df = df.dropna()\n",
        "\n",
        "# Removing duplicate rows\n",
        "df = df.drop_duplicates()\n",
        "\n",
        "# Converting column types\n",
        "if 'Age' in df.columns:\n",
        "    df['Age'] = df['Age'].astype(int)\n",
        "if 'Salary' in df.columns:\n",
        "    df['Salary'] = df['Salary'].astype(float)\n",
        "\n",
        "#Normalizing numeric columns\n",
        "numeric_cols = df.select_dtypes(include=['int64', 'float64']).columns\n",
        "scaler = MinMaxScaler()\n",
        "df[numeric_cols] = scaler.fit_transform(df[numeric_cols])\n",
        "\n",
        "df.to_csv('cleaned_data.csv', index=False)\n",
        "print(\"\\nCleaned dataset saved as 'cleaned_data.csv'\")\n",
        "\n",
        "#Display\n",
        "print(\"\\nCleaned DataFrame:\")\n",
        "print(df.head())"
      ],
      "metadata": {
        "colab": {
          "base_uri": "https://localhost:8080/"
        },
        "id": "HXn7evNb0jEd",
        "outputId": "bd0df6ae-907b-4de1-dd4a-5ae7a19db71f"
      },
      "execution_count": 1,
      "outputs": [
        {
          "output_type": "stream",
          "name": "stdout",
          "text": [
            "Demo CSV file created: demo_dataset.csv\n",
            "Original DataFrame:\n",
            "      Name  Age   Salary Department\n",
            "0    Alice   25  50000.0         HR\n",
            "1      Bob   30  60000.0         IT\n",
            "2  Charlie   35      NaN         IT\n",
            "3    David   40  70000.0    Finance\n",
            "4      Eva   28  65000.0         HR\n",
            "\n",
            "Cleaned dataset saved as 'cleaned_data.csv'\n",
            "\n",
            "Cleaned DataFrame:\n",
            "    Name       Age  Salary Department\n",
            "0  Alice  0.000000    0.00         HR\n",
            "1    Bob  0.333333    0.50         IT\n",
            "3  David  1.000000    1.00    Finance\n",
            "4    Eva  0.200000    0.75         HR\n"
          ]
        }
      ]
    }
  ]
}