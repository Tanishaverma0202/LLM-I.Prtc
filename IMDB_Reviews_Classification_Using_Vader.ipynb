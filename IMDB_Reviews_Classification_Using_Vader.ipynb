{
  "nbformat": 4,
  "nbformat_minor": 0,
  "metadata": {
    "colab": {
      "provenance": []
    },
    "kernelspec": {
      "name": "python3",
      "display_name": "Python 3"
    },
    "language_info": {
      "name": "python"
    }
  },
  "cells": [
    {
      "cell_type": "code",
      "execution_count": 1,
      "metadata": {
        "colab": {
          "base_uri": "https://localhost:8080/"
        },
        "id": "frvvbNO9waR7",
        "outputId": "2a28ac2a-b2cd-4bd9-cb83-f7135f81ca74"
      },
      "outputs": [
        {
          "output_type": "stream",
          "name": "stdout",
          "text": [
            "\n",
            "Review: This movie was absolutely magical! The graphics and story were brilliant.\n",
            "Scores: {'neg': 0.0, 'neu': 0.71, 'pos': 0.29, 'compound': 0.6239}\n",
            "Sentiment: Positive\n",
            "\n",
            "Review: Terrible movie. Waste of time and money.\n",
            "Scores: {'neg': 0.541, 'neu': 0.459, 'pos': 0.0, 'compound': -0.7096}\n",
            "Sentiment: Negative\n",
            "\n",
            "Review: It was okay, not great but not awful either.\n",
            "Scores: {'neg': 0.168, 'neu': 0.468, 'pos': 0.364, 'compound': 0.366}\n",
            "Sentiment: Positive\n",
            "\n",
            "Review: One of the best movies I’ve ever seen. Highly recommend!\n",
            "Scores: {'neg': 0.0, 'neu': 0.523, 'pos': 0.477, 'compound': 0.8066}\n",
            "Sentiment: Positive\n",
            "\n",
            "Review: The plot was weak and the characters were boring.\n",
            "Scores: {'neg': 0.426, 'neu': 0.574, 'pos': 0.0, 'compound': -0.6369}\n",
            "Sentiment: Negative\n"
          ]
        },
        {
          "output_type": "stream",
          "name": "stderr",
          "text": [
            "[nltk_data] Downloading package vader_lexicon to /root/nltk_data...\n"
          ]
        }
      ],
      "source": [
        "import nltk\n",
        "nltk.download('vader_lexicon')\n",
        "\n",
        "from nltk.sentiment.vader import SentimentIntensityAnalyzer\n",
        "\n",
        "# ---- Initialize VADER ----\n",
        "sid = SentimentIntensityAnalyzer()\n",
        "\n",
        "# ---- Example IMDB Reviews ----\n",
        "reviews = [\n",
        "    \"This movie was absolutely magical! The graphics and story were brilliant.\",\n",
        "    \"Terrible movie. Waste of time and money.\",\n",
        "    \"It was okay, not great but not awful either.\",\n",
        "    \"One of the best movies I’ve ever seen. Highly recommend!\",\n",
        "    \"The plot was weak and the characters were boring.\"\n",
        "]\n",
        "\n",
        "# ---- Analyze and Classify ----\n",
        "for review in reviews:\n",
        "    score = sid.polarity_scores(review)\n",
        "    compound = score['compound']\n",
        "\n",
        "    if compound >= 0.05:\n",
        "        sentiment = \"Positive\"\n",
        "    elif compound <= -0.05:\n",
        "        sentiment = \"Negative\"\n",
        "    else:\n",
        "        sentiment = \"Neutral\"\n",
        "\n",
        "    print(f\"\\nReview: {review}\")\n",
        "    print(f\"Scores: {score}\")\n",
        "    print(f\"Sentiment: {sentiment}\")"
      ]
    }
  ]
}