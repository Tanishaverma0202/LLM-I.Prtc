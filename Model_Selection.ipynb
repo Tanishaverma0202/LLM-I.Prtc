{
  "nbformat": 4,
  "nbformat_minor": 0,
  "metadata": {
    "colab": {
      "provenance": []
    },
    "kernelspec": {
      "name": "python3",
      "display_name": "Python 3"
    },
    "language_info": {
      "name": "python"
    }
  },
  "cells": [
    {
      "cell_type": "markdown",
      "source": [
        "On a dataset try 3 different models & evaluate them using crosss- validation. Select the best model using metrics & add observations."
      ],
      "metadata": {
        "id": "rcZj73cGY2fj"
      }
    },
    {
      "cell_type": "code",
      "execution_count": 1,
      "metadata": {
        "colab": {
          "base_uri": "https://localhost:8080/"
        },
        "id": "Uo_nHKCjYysQ",
        "outputId": "b4cc8159-5d13-4add-cbb5-f255b56ad7ee"
      },
      "outputs": [
        {
          "output_type": "stream",
          "name": "stdout",
          "text": [
            "Requirement already satisfied: scikit-learn in /usr/local/lib/python3.12/dist-packages (1.6.1)\n",
            "Requirement already satisfied: pandas in /usr/local/lib/python3.12/dist-packages (2.2.2)\n",
            "Requirement already satisfied: joblib in /usr/local/lib/python3.12/dist-packages (1.5.2)\n",
            "Requirement already satisfied: numpy>=1.19.5 in /usr/local/lib/python3.12/dist-packages (from scikit-learn) (2.0.2)\n",
            "Requirement already satisfied: scipy>=1.6.0 in /usr/local/lib/python3.12/dist-packages (from scikit-learn) (1.16.1)\n",
            "Requirement already satisfied: threadpoolctl>=3.1.0 in /usr/local/lib/python3.12/dist-packages (from scikit-learn) (3.6.0)\n",
            "Requirement already satisfied: python-dateutil>=2.8.2 in /usr/local/lib/python3.12/dist-packages (from pandas) (2.9.0.post0)\n",
            "Requirement already satisfied: pytz>=2020.1 in /usr/local/lib/python3.12/dist-packages (from pandas) (2025.2)\n",
            "Requirement already satisfied: tzdata>=2022.7 in /usr/local/lib/python3.12/dist-packages (from pandas) (2025.2)\n",
            "Requirement already satisfied: six>=1.5 in /usr/local/lib/python3.12/dist-packages (from python-dateutil>=2.8.2->pandas) (1.17.0)\n",
            "   sepal length (cm)  sepal width (cm)  petal length (cm)  petal width (cm)  \\\n",
            "0                5.1               3.5                1.4               0.2   \n",
            "1                4.9               3.0                1.4               0.2   \n",
            "2                4.7               3.2                1.3               0.2   \n",
            "3                4.6               3.1                1.5               0.2   \n",
            "4                5.0               3.6                1.4               0.2   \n",
            "\n",
            "   target  \n",
            "0       0  \n",
            "1       0  \n",
            "2       0  \n",
            "3       0  \n",
            "4       0  \n",
            "Logistic Regression: 0.960 ± 0.039\n",
            "Decision Tree: 0.953 ± 0.034\n",
            "Random Forest: 0.967 ± 0.021\n",
            "\n",
            "Best Model: Random Forest\n",
            "Model saved as best_model.joblib\n",
            "Logistic Regression: 0.960 → Good, but not the best performer.\n",
            "Decision Tree: 0.953 → Good, but not the best performer.\n",
            "Random Forest: 0.967 → Best performer. High accuracy and stable results.\n"
          ]
        }
      ],
      "source": [
        "!pip install scikit-learn pandas joblib\n",
        "\n",
        "import pandas as pd\n",
        "import numpy as np\n",
        "import joblib\n",
        "\n",
        "from sklearn.datasets import load_iris\n",
        "from sklearn.model_selection import cross_val_score\n",
        "from sklearn.preprocessing import StandardScaler\n",
        "from sklearn.pipeline import Pipeline\n",
        "from sklearn.linear_model import LogisticRegression\n",
        "from sklearn.tree import DecisionTreeClassifier\n",
        "from sklearn.ensemble import RandomForestClassifier\n",
        "\n",
        "iris = load_iris(as_frame=True)\n",
        "df = iris.frame\n",
        "\n",
        "print(df.head())\n",
        "\n",
        "X = df.drop(\"target\", axis=1)\n",
        "y = df[\"target\"]\n",
        "\n",
        "models = {\n",
        "    \"Logistic Regression\": Pipeline([(\"scaler\", StandardScaler()), (\"clf\", LogisticRegression(max_iter=500))]),\n",
        "    \"Decision Tree\": Pipeline([(\"clf\", DecisionTreeClassifier(random_state=42))]),\n",
        "    \"Random Forest\": Pipeline([(\"clf\", RandomForestClassifier(random_state=42))]),\n",
        "}\n",
        "\n",
        "#Evaluate Models with Cross-Validation\n",
        "results = {}\n",
        "for name, model in models.items():\n",
        "    scores = cross_val_score(model, X, y, cv=5, scoring=\"accuracy\")\n",
        "    results[name] = scores.mean()\n",
        "    print(f\"{name}: {scores.mean():.3f} ± {scores.std():.3f}\")\n",
        "\n",
        "#Selecting the Best Model\n",
        "best_model_name = max(results, key=results.get)\n",
        "best_model = models[best_model_name]\n",
        "best_model.fit(X, y)\n",
        "\n",
        "print(\"\\nBest Model:\", best_model_name)\n",
        "\n",
        "joblib.dump(best_model, \"best_model.joblib\")\n",
        "print(\"Model saved as best_model.joblib\")\n",
        "\n",
        "#Observations\n",
        "for name, score in results.items():\n",
        "    if name == best_model_name:\n",
        "        comment = \"Best performer. High accuracy and stable results.\"\n",
        "    elif score < 0.95:\n",
        "        comment = \"Lower accuracy compared to others. May underfit.\"\n",
        "    else:\n",
        "        comment = \"Good, but not the best performer.\"\n",
        "    print(f\"{name}: {score:.3f} → {comment}\")\n"
      ]
    }
  ]
}