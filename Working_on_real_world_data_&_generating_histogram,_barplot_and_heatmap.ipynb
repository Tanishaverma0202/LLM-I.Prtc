{
  "nbformat": 4,
  "nbformat_minor": 0,
  "metadata": {
    "colab": {
      "provenance": []
    },
    "kernelspec": {
      "name": "python3",
      "display_name": "Python 3"
    },
    "language_info": {
      "name": "python"
    }
  },
  "cells": [
    {
      "cell_type": "code",
      "execution_count": null,
      "metadata": {
        "id": "Tjz4NbVb1iRy"
      },
      "outputs": [],
      "source": [
        "import pandas as pd\n",
        "import matplotlib.pyplot as plt\n",
        "import seaborn as sns\n",
        "\n",
        "# Loading Titanic dataset\n",
        "df = sns.load_dataset('titanic')\n",
        "\n",
        "#Inspecting dataset\n",
        "print(df.info())\n",
        "print(df.describe())\n",
        "\n",
        "#Histogram of Age\n",
        "plt.figure(figsize=(8,5))\n",
        "plt.hist(df['age'].dropna(), bins=30, color='skyblue', edgecolor='black')\n",
        "plt.title('Age Distribution of Passengers')\n",
        "plt.xlabel('Age')\n",
        "plt.ylabel('Number of Passengers')\n",
        "plt.show()\n",
        "\n",
        "#Gender vs Survival barplot\n",
        "plt.figure(figsize=(6,5))\n",
        "sns.countplot(x='sex', hue='survived', data=df, palette='Set2')\n",
        "plt.title('Gender vs Survival')\n",
        "plt.xlabel('Gender')\n",
        "plt.ylabel('Count')\n",
        "plt.legend(title='Survived', labels=['No', 'Yes'])\n",
        "plt.show()\n",
        "\n",
        "#Correlation heatmap using only numeric columns\n",
        "numeric_cols = df.select_dtypes(include=['int64', 'float64'])\n",
        "plt.figure(figsize=(10,8))\n",
        "sns.heatmap(numeric_cols.corr(), annot=True, cmap='coolwarm', fmt=\".2f\")\n",
        "plt.title('Feature Correlation Heatmap')\n",
        "plt.show()\n"
      ]
    }
  ]
}